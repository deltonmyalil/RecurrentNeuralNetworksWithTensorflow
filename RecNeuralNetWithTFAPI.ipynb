{
 "cells": [
  {
   "cell_type": "markdown",
   "metadata": {},
   "source": [
    "# Recurrent Neural Network with Tensorflow API"
   ]
  },
  {
   "cell_type": "markdown",
   "metadata": {},
   "source": [
    "## Creating and Plotting the data"
   ]
  },
  {
   "cell_type": "markdown",
   "metadata": {},
   "source": [
    "Give the model a series = [0, 0.84, 0.91, 0.14, -0.75, -0.96, -0.28] and see what the next is\n",
    "\n",
    "Actually it is Sin(x)"
   ]
  },
  {
   "cell_type": "code",
   "execution_count": 1,
   "metadata": {},
   "outputs": [],
   "source": [
    "import numpy as np\n",
    "import tensorflow as tf\n",
    "import matplotlib.pyplot as plt\n",
    "%matplotlib inline"
   ]
  },
  {
   "cell_type": "code",
   "execution_count": 24,
   "metadata": {},
   "outputs": [],
   "source": [
    "# Create a Class that will be able to create the data and also generate batches \n",
    "# to send back\n",
    "\n",
    "class TimeSeriesData():\n",
    "    \n",
    "    def __init__(self, num_points, xmin, xmax):\n",
    "        \n",
    "        self.xmin = xmin\n",
    "        self.xmax = xmax\n",
    "        self.num_points = num_points\n",
    "        \n",
    "        self.resolution = (self.xmax - self.xmin)/self.num_points\n",
    "        # Defining x for num_points points\n",
    "        self.x_data = np.linspace(start = self.xmin,\n",
    "                                  stop = self.xmax,\n",
    "                                  num = self.num_points)\n",
    "        # Getting the Sin(x) for all of the x_data points\n",
    "        self.y_true = np.sin(self.x_data)\n",
    "    \n",
    "    # Returns the sin of an input array\n",
    "    def ret_true(self, x_series):\n",
    "        return np.sin(x_series)\n",
    "    \n",
    "    \n",
    "    def next_batch(self, batch_size, steps, return_batch_time_series=False):\n",
    "        \n",
    "        # Grab a random starting point for each batch\n",
    "        rand_start =np.random.rand(batch_size, 1)\n",
    "        \n",
    "        # Convert the random start to be lying somewhere on the time series\n",
    "        time_series_start = rand_start * (self.xmax - self.xmin - (steps*self.resolution))\n",
    "        \n",
    "        # Create a batch time series on the x-axis\n",
    "        batch_time_series = time_series_start + np.arange(0.0, steps+1) * self.resolution\n",
    "        \n",
    "        # Create a corresponding y_data for each of the x_data points\n",
    "        y_batch = np.sin(batch_time_series)\n",
    "        \n",
    "        # Format the whole thing for RNN\n",
    "        if return_batch_time_series:\n",
    "            return y_batch[:, :-1].reshape(-1, steps, 1), y_batch[:, 1:].reshape(-1, steps, 1), batch_time_series\n",
    "        else:\n",
    "            # first batch represents the time series, second batch reprersents the \n",
    "            # series shifted over by one step into the future so we can train\n",
    "            return y_batch[:, :-1].reshape(-1, steps, 1), y_batch[:, 1:].reshape(-1, steps, 1)\n",
    "        "
   ]
  },
  {
   "cell_type": "code",
   "execution_count": 25,
   "metadata": {},
   "outputs": [],
   "source": [
    "# Creating Data\n",
    "ts_data = TimeSeriesData(num_points=250, xmin=0, xmax=10)"
   ]
  },
  {
   "cell_type": "code",
   "execution_count": 26,
   "metadata": {},
   "outputs": [
    {
     "data": {
      "image/png": "[encoded data removed]",
      "text/plain": [
       "<Figure size 432x288 with 1 Axes>"
      ]
     },
     "metadata": {
      "needs_background": "light"
     },
     "output_type": "display_data"
    }
   ],
   "source": [
    "# Plotting the data\n",
    "plt.plot(ts_data.x_data, ts_data.y_true);"
   ]
  },
  {
   "cell_type": "code",
   "execution_count": 32,
   "metadata": {},
   "outputs": [],
   "source": [
    "# Each of my random batches should have 30 steps in it\n",
    "num_time_steps = 30"
   ]
  },
  {
   "cell_type": "code",
   "execution_count": 33,
   "metadata": {},
   "outputs": [],
   "source": [
    "# I need 1 batch of 30 time steps with the batch time series\n",
    "y1, y2, ts = ts_data.next_batch(batch_size=1, steps=num_time_steps, return_batch_time_series=True)"
   ]
  },
  {
   "cell_type": "code",
   "execution_count": 34,
   "metadata": {},
   "outputs": [
    {
     "data": {
      "text/plain": [
       "array([[5.15971414, 5.19971414, 5.23971414, 5.27971414, 5.31971414,\n",
       "        5.35971414, 5.39971414, 5.43971414, 5.47971414, 5.51971414,\n",
       "        5.55971414, 5.59971414, 5.63971414, 5.67971414, 5.71971414,\n",
       "        5.75971414, 5.79971414, 5.83971414, 5.87971414, 5.91971414,\n",
       "        5.95971414, 5.99971414, 6.03971414, 6.07971414, 6.11971414,\n",
       "        6.15971414, 6.19971414, 6.23971414, 6.27971414, 6.31971414,\n",
       "        6.35971414]])"
      ]
     },
     "execution_count": 34,
     "metadata": {},
     "output_type": "execute_result"
    }
   ],
   "source": [
    "ts"
   ]
  },
  {
   "cell_type": "code",
   "execution_count": 35,
   "metadata": {},
   "outputs": [
    {
     "data": {
      "text/plain": [
       "(1, 31)"
      ]
     },
     "execution_count": 35,
     "metadata": {},
     "output_type": "execute_result"
    }
   ],
   "source": [
    "ts.shape"
   ]
  },
  {
   "cell_type": "code",
   "execution_count": 36,
   "metadata": {},
   "outputs": [
    {
     "data": {
      "text/plain": [
       "[<matplotlib.lines.Line2D at 0x7f97d1c63630>]"
      ]
     },
     "execution_count": 36,
     "metadata": {},
     "output_type": "execute_result"
    },
    {
     "data": {
      "image/png": "[encoded data removed]",
      "text/plain": [
       "<Figure size 432x288 with 1 Axes>"
      ]
     },
     "metadata": {
      "needs_background": "light"
     },
     "output_type": "display_data"
    }
   ],
   "source": [
    "# Plotting\n",
    "plt.plot(ts.flatten()[1:], y2.flatten(), '.')"
   ]
  },
  {
   "cell_type": "code",
   "execution_count": 37,
   "metadata": {},
   "outputs": [
    {
     "data": {
      "image/png": "[encoded data removed]",
      "text/plain": [
       "<Figure size 432x288 with 1 Axes>"
      ]
     },
     "metadata": {
      "needs_background": "light"
     },
     "output_type": "display_data"
    }
   ],
   "source": [
    "# Original Sine wave\n",
    "plt.plot(ts_data.x_data, ts_data.y_true, label='Sin(t)')\n",
    "plt.plot(ts.flatten()[1:], y2.flatten(), '.', label='Single Training Instance')\n",
    "plt.legend()\n",
    "plt.tight_layout() # automatic padding for legibility"
   ]
  },
  {
   "cell_type": "code",
   "execution_count": 39,
   "metadata": {},
   "outputs": [
    {
     "data": {
      "text/plain": [
       "array([5.        , 5.04133333, 5.08266667, 5.124     , 5.16533333,\n",
       "       5.20666667, 5.248     , 5.28933333, 5.33066667, 5.372     ,\n",
       "       5.41333333, 5.45466667, 5.496     , 5.53733333, 5.57866667,\n",
       "       5.62      , 5.66133333, 5.70266667, 5.744     , 5.78533333,\n",
       "       5.82666667, 5.868     , 5.90933333, 5.95066667, 5.992     ,\n",
       "       6.03333333, 6.07466667, 6.116     , 6.15733333, 6.19866667,\n",
       "       6.24      ])"
      ]
     },
     "execution_count": 39,
     "metadata": {},
     "output_type": "execute_result"
    }
   ],
   "source": [
    "# Training Data\n",
    "\n",
    "train_inst = np.linspace(5, 5 + ts_data.resolution*(num_time_steps+1), num_time_steps+1)\n",
    "train_inst"
   ]
  },
  {
   "cell_type": "code",
   "execution_count": 45,
   "metadata": {},
   "outputs": [
    {
     "data": {
      "image/png": "[encoded data removed]",
      "text/plain": [
       "<Figure size 432x288 with 1 Axes>"
      ]
     },
     "metadata": {
      "needs_background": "light"
     },
     "output_type": "display_data"
    }
   ],
   "source": [
    "plt.title(\"A Training instance\")\n",
    "plt.plot(train_inst[:-1], ts_data.ret_true(train_inst[:-1]), 'bo', markersize=15, alpha=0.5, \n",
    "        label='INSTANCE');\n",
    "# We need to predict exactly one time step forward\n",
    "plt.plot(train_inst[1:],ts_data.ret_true(train_inst[1:]), 'k.', markersize=7, label='TARGET')\n",
    "plt.legend();"
   ]
  },
  {
   "cell_type": "markdown",
   "metadata": {},
   "source": [
    "Now this graph is interpreted as - Given the blue points, can you generate the black points?"
   ]
  },
  {
   "cell_type": "markdown",
   "metadata": {},
   "source": [
    "## Creating the Model"
   ]
  },
  {
   "cell_type": "code",
   "execution_count": 46,
   "metadata": {},
   "outputs": [],
   "source": [
    "# Uncomment below line if using GPUs\n",
    "# tf.reset_default_graph() # Obligatory"
   ]
  },
  {
   "cell_type": "code",
   "execution_count": 49,
   "metadata": {},
   "outputs": [
    {
     "name": "stdout",
     "output_type": "stream",
     "text": [
      "WARNING:tensorflow:From <ipython-input-49-01b5b818fa89>:20: dynamic_rnn (from tensorflow.python.ops.rnn) is deprecated and will be removed in a future version.\n",
      "Instructions for updating:\n",
      "Please use `keras.layers.RNN(cell)`, which is equivalent to this API\n",
      "WARNING:tensorflow:From /home/themadscientist/anaconda3/lib/python3.7/site-packages/tensorflow/python/ops/tensor_array_ops.py:162: colocate_with (from tensorflow.python.framework.ops) is deprecated and will be removed in a future version.\n",
      "Instructions for updating:\n",
      "Colocations handled automatically by placer.\n"
     ]
    }
   ],
   "source": [
    "# DESIGNING THE NETWORK OUTLINE\n",
    "num_inputs = 1 # We only have one feature ie the value of x\n",
    "num_neurons = 100\n",
    "num_outputs = 1\n",
    "learning_rate = 0.001\n",
    "num_training_iterations = 2000\n",
    "batch_size = 1\n",
    "\n",
    "# PLACEHOLDERS\n",
    "X = tf.placeholder(tf.float32, [None, num_time_steps, num_inputs])\n",
    "y = tf.placeholder(tf.float32, [None, num_time_steps, num_outputs])\n",
    "\n",
    "# RNN CELL LAYER\n",
    "cell = tf.contrib.rnn.BasicRNNCell(num_units=num_neurons,\n",
    "                                  activation=tf.nn.relu)\n",
    "# We just need 1 time series output, we are using 100 neurons, but we dont need 100 outputs\n",
    "# So we use an output projection wrapper (Check docstring again for more details)\n",
    "cell = tf.contrib.rnn.OutputProjectionWrapper(cell, output_size=num_outputs)\n",
    "# Creating a Recurrent NeuralNet specified by the cell (has to be RNN Cell)\n",
    "# Note: this is deprecated, will need to run keras.layers.RNN(cell) which is equivalent\n",
    "outputs, states = tf.nn.dynamic_rnn(cell=cell, inputs=X, dtype=tf.float32)\n",
    "\n",
    "# LOSS FUNCTION:\n",
    "# Using Mean Squared Error: between outputs and the placeholder y of true labels\n",
    "loss = tf.reduce_mean(tf.square(outputs-y))\n",
    "\n",
    "# OPTIMIZER and TRAINING OBJECT\n",
    "optimizer = tf.train.AdamOptimizer(learning_rate=learning_rate, beta1=0.9, beta2=0.999,\n",
    "                                  epsilon=1e-08)\n",
    "# Note: SGD with Nesterov and simple annealing with eta=0.001 also works\n",
    "train = optimizer.minimize(loss)\n",
    "\n",
    "# CREATING GLOBAL VARIBALE INITIALIZER OBJECT FOR THE VARIBALES\n",
    "init = tf.global_variables_initializer()"
   ]
  },
  {
   "cell_type": "markdown",
   "metadata": {},
   "source": [
    "## Running the Session"
   ]
  },
  {
   "cell_type": "code",
   "execution_count": 50,
   "metadata": {},
   "outputs": [
    {
     "name": "stdout",
     "output_type": "stream",
     "text": [
      "0 \tMSE:  0.115564995\n",
      "100 \tMSE:  0.010388636\n",
      "200 \tMSE:  0.008219824\n",
      "300 \tMSE:  0.0030932273\n",
      "400 \tMSE:  0.00012989654\n",
      "500 \tMSE:  0.00021801922\n",
      "600 \tMSE:  0.00020623385\n",
      "700 \tMSE:  0.00014440912\n",
      "800 \tMSE:  0.0009330499\n",
      "900 \tMSE:  0.00020509477\n",
      "1000 \tMSE:  0.00061926007\n",
      "1100 \tMSE:  0.00085537904\n",
      "1200 \tMSE:  0.00019426849\n",
      "1300 \tMSE:  0.00039671175\n",
      "1400 \tMSE:  9.89043e-05\n",
      "1500 \tMSE:  0.000113503374\n",
      "1600 \tMSE:  1.965659e-05\n",
      "1700 \tMSE:  0.00014926818\n",
      "1800 \tMSE:  0.00054893544\n",
      "1900 \tMSE:  0.000114581795\n"
     ]
    }
   ],
   "source": [
    "# SESSION\n",
    "\n",
    "# Note: Uncomment below line if using GPUs\n",
    "# To limit the memory usage of GPU\n",
    "# gpu_options = tf.GPUOptions(per_process_gpu_memory_fraction=0.75)\n",
    "\n",
    "# Saver function to save my model to use later\n",
    "saver = tf.train.Saver()\n",
    "\n",
    "# Uncomment this Session() mainloop if using GPUs\n",
    "# with tf.Session(config=tf.ConfigProto(gpu_options=gpu_options)) as sess:\n",
    "with tf.Session() as sess:\n",
    "    # Initialize the Variables\n",
    "    sess.run(init)\n",
    "    \n",
    "    for iteration in range(num_training_iterations):\n",
    "        # Get the next batch\n",
    "        X_batch, y_batch = ts_data.next_batch(batch_size=batch_size, steps=num_time_steps)\n",
    "        # Running the session with the current batch\n",
    "        # On the train object designed to minimize the MSE with AdamOptimization\n",
    "        sess.run(train, feed_dict={\n",
    "            X: X_batch,\n",
    "            y: y_batch\n",
    "        })\n",
    "        # Calculating the accuracy every 100 steps and report back\n",
    "        if iteration%100 == 0:\n",
    "            # Calculating the loss on the training set\n",
    "            mse = loss.eval(feed_dict={\n",
    "                X: X_batch,\n",
    "                y: y_batch\n",
    "            })\n",
    "            print(iteration, \"\\tMSE: \", mse)\n",
    "    saver.save(sess, \"./TF_RNN_Adam_NoGPU_NoLSTMCell\")"
   ]
  },
  {
   "cell_type": "markdown",
   "metadata": {},
   "source": [
    "## Predict the time series one step into the future"
   ]
  },
  {
   "cell_type": "code",
   "execution_count": 51,
   "metadata": {},
   "outputs": [
    {
     "name": "stdout",
     "output_type": "stream",
     "text": [
      "WARNING:tensorflow:From /home/themadscientist/anaconda3/lib/python3.7/site-packages/tensorflow/python/training/saver.py:1266: checkpoint_exists (from tensorflow.python.training.checkpoint_management) is deprecated and will be removed in a future version.\n",
      "Instructions for updating:\n",
      "Use standard file APIs to check for files with this prefix.\n",
      "INFO:tensorflow:Restoring parameters from ./TF_RNN_Adam_NoGPU_NoLSTMCell\n"
     ]
    }
   ],
   "source": [
    "with tf.Session() as sess:\n",
    "    \n",
    "    # restore the saved model\n",
    "    saver.restore(sess, \"./TF_RNN_Adam_NoGPU_NoLSTMCell\")\n",
    "    \n",
    "    X_new = np.sin(np.array(train_inst[:-1].reshape(-1, num_time_steps, num_inputs)))\n",
    "    y_pred = sess.run(outputs, feed_dict={X: X_new})"
   ]
  },
  {
   "cell_type": "code",
   "execution_count": 58,
   "metadata": {},
   "outputs": [
    {
     "data": {
      "text/plain": [
       "array([-0.9275967 , -0.8971525 , -0.87435967, -0.8573939 , -0.8388857 ,\n",
       "       -0.8309707 , -0.8180793 , -0.7879581 , -0.76715714, -0.74297863,\n",
       "       -0.71380067, -0.6843224 , -0.65302914, -0.6212141 , -0.5892172 ,\n",
       "       -0.55714744, -0.52390486, -0.48917568, -0.45330605, -0.41753447,\n",
       "       -0.38068682, -0.3439343 , -0.30775988, -0.27304125, -0.23823485,\n",
       "       -0.20130304, -0.16317062, -0.12398393, -0.08449935, -0.04267083],\n",
       "      dtype=float32)"
      ]
     },
     "execution_count": 58,
     "metadata": {},
     "output_type": "execute_result"
    }
   ],
   "source": [
    "y_pred.flatten()"
   ]
  },
  {
   "cell_type": "markdown",
   "metadata": {},
   "source": [
    "## Plotting the result"
   ]
  },
  {
   "cell_type": "code",
   "execution_count": 62,
   "metadata": {},
   "outputs": [
    {
     "data": {
      "image/png": "[encoded data removed]",
      "text/plain": [
       "<Figure size 432x288 with 1 Axes>"
      ]
     },
     "metadata": {
      "needs_background": "light"
     },
     "output_type": "display_data"
    }
   ],
   "source": [
    "plt.title(\"Testing the model\")\n",
    "# Training instance\n",
    "plt.plot(train_inst[:-1], np.sin(train_inst[:-1]), \"bo\", \n",
    "         markersize=15, alpha=0.5, label='training instance')\n",
    "\n",
    "# Target to predict (True test values ie np.sin(train))\n",
    "# ie Time Series shifted one step into the future\n",
    "plt.plot(train_inst[1:], np.sin(train_inst[1:]), \"ko\", markersize=10, label='target (true value)')\n",
    "\n",
    "# Model prediction\n",
    "plt.plot(train_inst[1:],  y_pred[0,:,0], 'r.', markersize=10, label='predictions')\n",
    "plt.xlabel('time')\n",
    "plt.ylabel('value')\n",
    "plt.legend()\n",
    "plt.tight_layout();"
   ]
  }
 ],
 "metadata": {
  "kernelspec": {
   "display_name": "Python 3",
   "language": "python",
   "name": "python3"
  },
  "language_info": {
   "codemirror_mode": {
    "name": "ipython",
    "version": 3
   },
   "file_extension": ".py",
   "mimetype": "text/x-python",
   "name": "python",
   "nbconvert_exporter": "python",
   "pygments_lexer": "ipython3",
   "version": "3.7.1"
  }
 },
 "nbformat": 4,
 "nbformat_minor": 2
}
