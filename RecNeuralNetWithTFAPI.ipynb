{
 "cells": [
  {
   "cell_type": "markdown",
   "metadata": {},
   "source": [
    "# Recurrent Neural Network with Tensorflow API"
   ]
  },
  {
   "cell_type": "markdown",
   "metadata": {},
   "source": [
    "## Creating and Plotting the data"
   ]
  },
  {
   "cell_type": "markdown",
   "metadata": {},
   "source": [
    "Give the model a series = [0, 0.84, 0.91, 0.14, -0.75, -0.96, -0.28] and see what the next is\n",
    "\n",
    "Actually it is Sin(x)"
   ]
  },
  {
   "cell_type": "code",
   "execution_count": 1,
   "metadata": {},
   "outputs": [],
   "source": [
    "import numpy as np\n",
    "import tensorflow as tf\n",
    "import matplotlib.pyplot as plt\n",
    "%matplotlib inline"
   ]
  },
  {
   "cell_type": "code",
   "execution_count": 2,
   "metadata": {},
   "outputs": [],
   "source": [
    "# Create a Class that will be able to create the data and also generate batches \n",
    "# to send back\n",
    "\n",
    "class TimeSeriesData():\n",
    "    \n",
    "    def __init__(self, num_points, xmin, xmax):\n",
    "        \n",
    "        self.xmin = xmin\n",
    "        self.xmax = xmax\n",
    "        self.num_points = num_points\n",
    "        \n",
    "        self.resolution = (self.xmax - self.xmin)/self.num_points\n",
    "        # Defining x for num_points points\n",
    "        self.x_data = np.linspace(start = self.xmin,\n",
    "                                  stop = self.xmax,\n",
    "                                  num = self.num_points)\n",
    "        # Getting the Sin(x) for all of the x_data points\n",
    "        self.y_true = np.sin(self.x_data)\n",
    "    \n",
    "    # Returns the sin of an input array\n",
    "    def ret_true(self, x_series):\n",
    "        return np.sin(x_series)\n",
    "    \n",
    "    \n",
    "    def next_batch(self, batch_size, steps, return_batch_time_series=False):\n",
    "        \n",
    "        # Grab a random starting point for each batch\n",
    "        rand_start =np.random.rand(batch_size, 1)\n",
    "        \n",
    "        # Convert the random start to be lying somewhere on the time series\n",
    "        time_series_start = rand_start * (self.xmax - self.xmin - (steps*self.resolution))\n",
    "        \n",
    "        # Create a batch time series on the x-axis\n",
    "        batch_time_series = time_series_start + np.arange(0.0, steps+1) * self.resolution\n",
    "        \n",
    "        # Create a corresponding y_data for each of the x_data points\n",
    "        y_batch = np.sin(batch_time_series)\n",
    "        \n",
    "        # Format the whole thing for RNN\n",
    "        if return_batch_time_series:\n",
    "            return y_batch[:, :-1].reshape(-1, steps, 1), y_batch[:, 1:].reshape(-1, steps, 1), batch_time_series\n",
    "        else:\n",
    "            # first batch represents the time series, second batch reprersents the \n",
    "            # series shifted over by one step into the future so we can train\n",
    "            return y_batch[:, :-1].reshape(-1, steps, 1), y_batch[:, 1:].reshape(-1, steps, 1)\n",
    "        "
   ]
  },
  {
   "cell_type": "code",
   "execution_count": 3,
   "metadata": {},
   "outputs": [],
   "source": [
    "# Creating Data\n",
    "ts_data = TimeSeriesData(num_points=250, xmin=0, xmax=10)"
   ]
  },
  {
   "cell_type": "code",
   "execution_count": 5,
   "metadata": {},
   "outputs": [
    {
     "data": {
      "image/png": "[encoded data removed]",
      "text/plain": [
       "<Figure size 432x288 with 1 Axes>"
      ]
     },
     "metadata": {
      "needs_background": "light"
     },
     "output_type": "display_data"
    }
   ],
   "source": [
    "# Plotting the data\n",
    "plt.plot(ts_data.x_data, ts_data.y_true);"
   ]
  },
  {
   "cell_type": "code",
   "execution_count": 6,
   "metadata": {},
   "outputs": [],
   "source": [
    "# Each of my random batches should have 30 steps in it\n",
    "num_time_steps = 30"
   ]
  },
  {
   "cell_type": "code",
   "execution_count": 7,
   "metadata": {},
   "outputs": [],
   "source": [
    "# I need 1 batch of 30 time steps with the batch time series\n",
    "y1, y2, ts = ts_data.next_batch(batch_size=1, steps=num_time_steps, return_batch_time_series=True)"
   ]
  },
  {
   "cell_type": "code",
   "execution_count": 8,
   "metadata": {},
   "outputs": [
    {
     "data": {
      "text/plain": [
       "array([[0.68880336, 0.72880336, 0.76880336, 0.80880336, 0.84880336,\n",
       "        0.88880336, 0.92880336, 0.96880336, 1.00880336, 1.04880336,\n",
       "        1.08880336, 1.12880336, 1.16880336, 1.20880336, 1.24880336,\n",
       "        1.28880336, 1.32880336, 1.36880336, 1.40880336, 1.44880336,\n",
       "        1.48880336, 1.52880336, 1.56880336, 1.60880336, 1.64880336,\n",
       "        1.68880336, 1.72880336, 1.76880336, 1.80880336, 1.84880336,\n",
       "        1.88880336]])"
      ]
     },
     "execution_count": 8,
     "metadata": {},
     "output_type": "execute_result"
    }
   ],
   "source": [
    "ts"
   ]
  },
  {
   "cell_type": "code",
   "execution_count": 9,
   "metadata": {},
   "outputs": [
    {
     "data": {
      "text/plain": [
       "(1, 31)"
      ]
     },
     "execution_count": 9,
     "metadata": {},
     "output_type": "execute_result"
    }
   ],
   "source": [
    "ts.shape"
   ]
  },
  {
   "cell_type": "code",
   "execution_count": 10,
   "metadata": {},
   "outputs": [
    {
     "data": {
      "text/plain": [
       "[<matplotlib.lines.Line2D at 0x7f743f8599e8>]"
      ]
     },
     "execution_count": 10,
     "metadata": {},
     "output_type": "execute_result"
    },
    {
     "data": {
      "image/png": "[encoded data removed]",
      "text/plain": [
       "<Figure size 432x288 with 1 Axes>"
      ]
     },
     "metadata": {
      "needs_background": "light"
     },
     "output_type": "display_data"
    }
   ],
   "source": [
    "# Plotting\n",
    "plt.plot(ts.flatten()[1:], y2.flatten(), '.')"
   ]
  },
  {
   "cell_type": "code",
   "execution_count": 11,
   "metadata": {},
   "outputs": [
    {
     "data": {
      "image/png": "[encoded data removed]",
      "text/plain": [
       "<Figure size 432x288 with 1 Axes>"
      ]
     },
     "metadata": {
      "needs_background": "light"
     },
     "output_type": "display_data"
    }
   ],
   "source": [
    "# Original Sine wave\n",
    "plt.plot(ts_data.x_data, ts_data.y_true, label='Sin(t)')\n",
    "plt.plot(ts.flatten()[1:], y2.flatten(), '.', label='Single Training Instance')\n",
    "plt.legend()\n",
    "plt.tight_layout() # automatic padding for legibility"
   ]
  },
  {
   "cell_type": "code",
   "execution_count": 12,
   "metadata": {},
   "outputs": [
    {
     "data": {
      "text/plain": [
       "array([5.        , 5.04133333, 5.08266667, 5.124     , 5.16533333,\n",
       "       5.20666667, 5.248     , 5.28933333, 5.33066667, 5.372     ,\n",
       "       5.41333333, 5.45466667, 5.496     , 5.53733333, 5.57866667,\n",
       "       5.62      , 5.66133333, 5.70266667, 5.744     , 5.78533333,\n",
       "       5.82666667, 5.868     , 5.90933333, 5.95066667, 5.992     ,\n",
       "       6.03333333, 6.07466667, 6.116     , 6.15733333, 6.19866667,\n",
       "       6.24      ])"
      ]
     },
     "execution_count": 12,
     "metadata": {},
     "output_type": "execute_result"
    }
   ],
   "source": [
    "# Training Data\n",
    "\n",
    "train_inst = np.linspace(5, 5 + ts_data.resolution*(num_time_steps+1), num_time_steps+1)\n",
    "train_inst"
   ]
  },
  {
   "cell_type": "code",
   "execution_count": 13,
   "metadata": {},
   "outputs": [
    {
     "data": {
      "image/png": "[encoded data removed]",
      "text/plain": [
       "<Figure size 432x288 with 1 Axes>"
      ]
     },
     "metadata": {
      "needs_background": "light"
     },
     "output_type": "display_data"
    }
   ],
   "source": [
    "plt.title(\"A Training instance\")\n",
    "plt.plot(train_inst[:-1], ts_data.ret_true(train_inst[:-1]), 'bo', markersize=15, alpha=0.5, \n",
    "        label='INSTANCE');\n",
    "# We need to predict exactly one time step forward\n",
    "plt.plot(train_inst[1:],ts_data.ret_true(train_inst[1:]), 'k.', markersize=7, label='TARGET')\n",
    "plt.legend();"
   ]
  },
  {
   "cell_type": "markdown",
   "metadata": {},
   "source": [
    "Now this graph is interpreted as - Given the blue points, can you generate the black points?"
   ]
  },
  {
   "cell_type": "markdown",
   "metadata": {},
   "source": [
    "## Creating the Model"
   ]
  },
  {
   "cell_type": "code",
   "execution_count": 13,
   "metadata": {},
   "outputs": [],
   "source": [
    "# Uncomment below line if using GPUs\n",
    "# tf.reset_default_graph() # Obligatory"
   ]
  },
  {
   "cell_type": "code",
   "execution_count": 14,
   "metadata": {},
   "outputs": [
    {
     "name": "stdout",
     "output_type": "stream",
     "text": [
      "\n",
      "WARNING: The TensorFlow contrib module will not be included in TensorFlow 2.0.\n",
      "For more information, please see:\n",
      "  * https://github.com/tensorflow/community/blob/master/rfcs/20180907-contrib-sunset.md\n",
      "  * https://github.com/tensorflow/addons\n",
      "If you depend on functionality not listed there, please file an issue.\n",
      "\n",
      "WARNING:tensorflow:From <ipython-input-14-38a4dac17f5d>:15: BasicRNNCell.__init__ (from tensorflow.python.ops.rnn_cell_impl) is deprecated and will be removed in a future version.\n",
      "Instructions for updating:\n",
      "This class is equivalent as tf.keras.layers.SimpleRNNCell, and will be replaced by that in Tensorflow 2.0.\n",
      "WARNING:tensorflow:From <ipython-input-14-38a4dac17f5d>:21: dynamic_rnn (from tensorflow.python.ops.rnn) is deprecated and will be removed in a future version.\n",
      "Instructions for updating:\n",
      "Please use `keras.layers.RNN(cell)`, which is equivalent to this API\n",
      "WARNING:tensorflow:From /home/themadscientist/anaconda3/lib/python3.7/site-packages/tensorflow/python/ops/tensor_array_ops.py:162: colocate_with (from tensorflow.python.framework.ops) is deprecated and will be removed in a future version.\n",
      "Instructions for updating:\n",
      "Colocations handled automatically by placer.\n"
     ]
    }
   ],
   "source": [
    "# DESIGNING THE NETWORK OUTLINE\n",
    "num_inputs = 1 # We only have one feature ie the value of x\n",
    "num_neurons = 100\n",
    "num_outputs = 1\n",
    "learning_rate = 0.001\n",
    "num_training_iterations = 2000\n",
    "batch_size = 1\n",
    "\n",
    "# PLACEHOLDERS\n",
    "X = tf.placeholder(tf.float32, [None, num_time_steps, num_inputs])\n",
    "y = tf.placeholder(tf.float32, [None, num_time_steps, num_outputs])\n",
    "\n",
    "# RNN CELL LAYER\n",
    "cell = tf.contrib.rnn.BasicRNNCell(num_units=num_neurons,\n",
    "                                  activation=tf.nn.relu)\n",
    "# We just need 1 time series output, we are using 100 neurons, but we dont need 100 outputs\n",
    "# So we use an output projection wrapper (Check docstring again for more details)\n",
    "cell = tf.contrib.rnn.OutputProjectionWrapper(cell, output_size=num_outputs)\n",
    "# Creating a Recurrent NeuralNet specified by the cell (has to be RNN Cell)\n",
    "# Note: this is deprecated, will need to run keras.layers.RNN(cell) which is equivalent\n",
    "outputs, states = tf.nn.dynamic_rnn(cell=cell, inputs=X, dtype=tf.float32)\n",
    "\n",
    "# LOSS FUNCTION:\n",
    "# Using Mean Squared Error: between outputs and the placeholder y of true labels\n",
    "loss = tf.reduce_mean(tf.square(outputs-y))\n",
    "\n",
    "# OPTIMIZER and TRAINING OBJECT\n",
    "optimizer = tf.train.AdamOptimizer(learning_rate=learning_rate, beta1=0.9, beta2=0.999,\n",
    "                                  epsilon=1e-08)\n",
    "# Note: SGD with Nesterov and simple annealing with eta=0.001 also works\n",
    "train = optimizer.minimize(loss)\n",
    "\n",
    "# CREATING GLOBAL VARIBALE INITIALIZER OBJECT FOR THE VARIBALES\n",
    "init = tf.global_variables_initializer()"
   ]
  },
  {
   "cell_type": "markdown",
   "metadata": {},
   "source": [
    "## Running the Session"
   ]
  },
  {
   "cell_type": "code",
   "execution_count": 16,
   "metadata": {},
   "outputs": [],
   "source": [
    "# SESSION\n",
    "\n",
    "# Note: Uncomment below line if using GPUs\n",
    "# To limit the memory usage of GPU\n",
    "# gpu_options = tf.GPUOptions(per_process_gpu_memory_fraction=0.75)\n",
    "\n",
    "# Saver function to save my model to use later\n",
    "saver = tf.train.Saver()"
   ]
  },
  {
   "cell_type": "code",
   "execution_count": 15,
   "metadata": {},
   "outputs": [
    {
     "name": "stdout",
     "output_type": "stream",
     "text": [
      "0 \tMSE:  0.18703057\n",
      "10 \tMSE:  0.047972705\n",
      "20 \tMSE:  0.03178356\n",
      "30 \tMSE:  0.09158231\n",
      "40 \tMSE:  0.020529598\n",
      "50 \tMSE:  0.01538178\n",
      "60 \tMSE:  0.011045977\n",
      "70 \tMSE:  0.00843369\n",
      "80 \tMSE:  0.04165147\n",
      "90 \tMSE:  0.030887784\n",
      "100 \tMSE:  0.0138329575\n",
      "110 \tMSE:  0.007787118\n",
      "120 \tMSE:  0.014906622\n",
      "130 \tMSE:  0.0012882666\n",
      "140 \tMSE:  0.011689459\n",
      "150 \tMSE:  0.007344196\n",
      "160 \tMSE:  0.0061869766\n",
      "170 \tMSE:  0.008646806\n",
      "180 \tMSE:  0.0043346514\n",
      "190 \tMSE:  0.012284579\n",
      "200 \tMSE:  0.0008326672\n",
      "210 \tMSE:  0.0025733875\n",
      "220 \tMSE:  0.0014280431\n",
      "230 \tMSE:  0.0048901723\n",
      "240 \tMSE:  0.0053767404\n",
      "250 \tMSE:  0.00070951425\n",
      "260 \tMSE:  0.004215056\n",
      "270 \tMSE:  0.008359759\n",
      "280 \tMSE:  0.0012212681\n",
      "290 \tMSE:  0.0022591501\n",
      "300 \tMSE:  0.003234637\n",
      "310 \tMSE:  0.0020762538\n",
      "320 \tMSE:  0.00027172003\n",
      "330 \tMSE:  0.007853362\n",
      "340 \tMSE:  0.0013004469\n",
      "350 \tMSE:  0.0005477898\n",
      "360 \tMSE:  0.0015868118\n",
      "370 \tMSE:  0.00044014538\n",
      "380 \tMSE:  0.00012085244\n",
      "390 \tMSE:  0.0008615217\n",
      "400 \tMSE:  0.00600991\n",
      "410 \tMSE:  0.0068774936\n",
      "420 \tMSE:  0.000122015226\n",
      "430 \tMSE:  0.00053859816\n",
      "440 \tMSE:  0.0003300359\n",
      "450 \tMSE:  0.00021116962\n",
      "460 \tMSE:  0.00026621143\n",
      "470 \tMSE:  0.00027871315\n",
      "480 \tMSE:  0.00064425543\n",
      "490 \tMSE:  0.004453204\n",
      "500 \tMSE:  0.0043837475\n",
      "510 \tMSE:  0.00021576344\n",
      "520 \tMSE:  0.0043092817\n",
      "530 \tMSE:  0.00017948981\n",
      "540 \tMSE:  0.003923082\n",
      "550 \tMSE:  0.0005273469\n",
      "560 \tMSE:  0.0005189695\n",
      "570 \tMSE:  0.00069293036\n",
      "580 \tMSE:  0.00014796651\n",
      "590 \tMSE:  0.00016134711\n",
      "600 \tMSE:  0.00021842578\n",
      "610 \tMSE:  0.00017027375\n",
      "620 \tMSE:  0.0026292203\n",
      "630 \tMSE:  0.00016372075\n",
      "640 \tMSE:  0.00031384797\n",
      "650 \tMSE:  7.233997e-05\n",
      "660 \tMSE:  0.00025654366\n",
      "670 \tMSE:  0.00039807204\n",
      "680 \tMSE:  0.00016605228\n",
      "690 \tMSE:  0.0018045752\n",
      "700 \tMSE:  0.000186177\n",
      "710 \tMSE:  0.0004278114\n",
      "720 \tMSE:  9.440845e-05\n",
      "730 \tMSE:  0.00011712024\n",
      "740 \tMSE:  0.0011944384\n",
      "750 \tMSE:  0.00017879713\n",
      "760 \tMSE:  6.378369e-05\n",
      "770 \tMSE:  0.000117322306\n",
      "780 \tMSE:  4.9336883e-05\n",
      "790 \tMSE:  0.00036770786\n",
      "800 \tMSE:  0.00035366285\n",
      "810 \tMSE:  0.0010239749\n",
      "820 \tMSE:  0.00011362722\n",
      "830 \tMSE:  0.00039312895\n",
      "840 \tMSE:  0.00056127115\n",
      "850 \tMSE:  0.00053288764\n",
      "860 \tMSE:  3.6462432e-05\n",
      "870 \tMSE:  0.000106185274\n",
      "880 \tMSE:  0.00037790203\n",
      "890 \tMSE:  8.002427e-05\n",
      "900 \tMSE:  0.00014484991\n",
      "910 \tMSE:  0.00072308164\n",
      "920 \tMSE:  0.00023392127\n",
      "930 \tMSE:  8.6650485e-05\n",
      "940 \tMSE:  0.000115495954\n",
      "950 \tMSE:  0.0006673091\n",
      "960 \tMSE:  0.00015213103\n",
      "970 \tMSE:  0.0001529925\n",
      "980 \tMSE:  4.675341e-05\n",
      "990 \tMSE:  9.984981e-05\n",
      "1000 \tMSE:  7.162741e-05\n",
      "1010 \tMSE:  0.00025436067\n",
      "1020 \tMSE:  0.00023483284\n",
      "1030 \tMSE:  0.00011332982\n",
      "1040 \tMSE:  0.0002952972\n",
      "1050 \tMSE:  0.00033020892\n",
      "1060 \tMSE:  6.0402832e-05\n",
      "1070 \tMSE:  0.00042529823\n",
      "1080 \tMSE:  0.00034335864\n",
      "1090 \tMSE:  0.00035455002\n",
      "1100 \tMSE:  0.00037595394\n",
      "1110 \tMSE:  0.00034876246\n",
      "1120 \tMSE:  2.5909381e-05\n",
      "1130 \tMSE:  0.00018231703\n",
      "1140 \tMSE:  0.00010052528\n",
      "1150 \tMSE:  0.00017123672\n",
      "1160 \tMSE:  0.00011129012\n",
      "1170 \tMSE:  0.000116823794\n",
      "1180 \tMSE:  6.2107414e-05\n",
      "1190 \tMSE:  9.3145485e-05\n",
      "1200 \tMSE:  0.00031330186\n",
      "1210 \tMSE:  0.0001477079\n",
      "1220 \tMSE:  5.2441934e-05\n",
      "1230 \tMSE:  9.174514e-05\n",
      "1240 \tMSE:  0.00015870687\n",
      "1250 \tMSE:  7.161735e-05\n",
      "1260 \tMSE:  7.1786686e-05\n",
      "1270 \tMSE:  0.00015374158\n",
      "1280 \tMSE:  6.691481e-05\n",
      "1290 \tMSE:  0.00033439003\n",
      "1300 \tMSE:  0.00034361964\n",
      "1310 \tMSE:  0.00039957548\n",
      "1320 \tMSE:  0.00094321097\n",
      "1330 \tMSE:  0.00011748758\n",
      "1340 \tMSE:  2.9668421e-05\n",
      "1350 \tMSE:  0.00038025502\n",
      "1360 \tMSE:  0.00022973951\n",
      "1370 \tMSE:  0.00027567332\n",
      "1380 \tMSE:  8.6539214e-05\n",
      "1390 \tMSE:  8.663418e-05\n",
      "1400 \tMSE:  0.00020923029\n",
      "1410 \tMSE:  9.601671e-05\n",
      "1420 \tMSE:  5.7101584e-05\n",
      "1430 \tMSE:  8.758074e-05\n",
      "1440 \tMSE:  0.00049704616\n",
      "1450 \tMSE:  8.122484e-05\n",
      "1460 \tMSE:  0.00035878277\n",
      "1470 \tMSE:  3.5566693e-05\n",
      "1480 \tMSE:  0.00011093104\n",
      "1490 \tMSE:  3.1190775e-05\n",
      "1500 \tMSE:  3.6275876e-05\n",
      "1510 \tMSE:  0.000109325614\n",
      "1520 \tMSE:  0.00043930864\n",
      "1530 \tMSE:  6.8357534e-05\n",
      "1540 \tMSE:  0.00030472342\n",
      "1550 \tMSE:  0.00019581892\n",
      "1560 \tMSE:  0.0006259425\n",
      "1570 \tMSE:  0.0007536967\n",
      "1580 \tMSE:  0.00050287053\n",
      "1590 \tMSE:  6.236379e-05\n",
      "1600 \tMSE:  0.0005198011\n",
      "1610 \tMSE:  0.0002608435\n",
      "1620 \tMSE:  0.0006667993\n",
      "1630 \tMSE:  0.00025013258\n",
      "1640 \tMSE:  9.828977e-05\n",
      "1650 \tMSE:  8.8840694e-05\n",
      "1660 \tMSE:  5.8910817e-05\n",
      "1670 \tMSE:  0.00024706832\n",
      "1680 \tMSE:  0.00091058476\n",
      "1690 \tMSE:  0.00013701241\n",
      "1700 \tMSE:  0.00014286824\n",
      "1710 \tMSE:  0.00010474436\n",
      "1720 \tMSE:  0.00061338063\n",
      "1730 \tMSE:  0.0004595946\n",
      "1740 \tMSE:  0.0008576705\n",
      "1750 \tMSE:  9.400338e-05\n",
      "1760 \tMSE:  0.00014572668\n",
      "1770 \tMSE:  0.0023121897\n",
      "1780 \tMSE:  0.00010204811\n",
      "1790 \tMSE:  0.00013048317\n",
      "1800 \tMSE:  0.0005742629\n",
      "1810 \tMSE:  0.0035178298\n",
      "1820 \tMSE:  0.00092745933\n",
      "1830 \tMSE:  0.00067014305\n",
      "1840 \tMSE:  0.0005927274\n",
      "1850 \tMSE:  0.00086834567\n",
      "1860 \tMSE:  0.00035130873\n",
      "1870 \tMSE:  0.0016837532\n",
      "1880 \tMSE:  0.00023312819\n",
      "1890 \tMSE:  0.00025142595\n",
      "1900 \tMSE:  0.0020631447\n",
      "1910 \tMSE:  0.0004397287\n",
      "1920 \tMSE:  0.00051520846\n",
      "1930 \tMSE:  0.0007298502\n",
      "1940 \tMSE:  0.00015367498\n",
      "1950 \tMSE:  0.00022243556\n",
      "1960 \tMSE:  8.088995e-05\n",
      "1970 \tMSE:  0.0006548951\n",
      "1980 \tMSE:  7.744313e-05\n",
      "1990 \tMSE:  8.911731e-05\n"
     ]
    }
   ],
   "source": [
    "# Uncomment this Session() mainloop if using GPUs\n",
    "# with tf.Session(config=tf.ConfigProto(gpu_options=gpu_options)) as sess:\n",
    "with tf.Session() as sess:\n",
    "    # Initialize the Variables\n",
    "    sess.run(init)\n",
    "    \n",
    "    for iteration in range(num_training_iterations):\n",
    "        # Get the next batch\n",
    "        X_batch, y_batch = ts_data.next_batch(batch_size=batch_size, steps=num_time_steps)\n",
    "        # Running the session with the current batch\n",
    "        # On the train object designed to minimize the MSE with AdamOptimization\n",
    "        sess.run(train, feed_dict={\n",
    "            X: X_batch,\n",
    "            y: y_batch\n",
    "        })\n",
    "        # Calculating the accuracy every 100 steps and report back\n",
    "        if iteration%10 == 0:\n",
    "            # Calculating the loss on the training set\n",
    "            mse = loss.eval(feed_dict={\n",
    "                X: X_batch,\n",
    "                y: y_batch\n",
    "            })\n",
    "            print(iteration, \"\\tMSE: \", mse)\n",
    "    saver.save(sess, \"./TF_RNN_Adam_NoGPU_NoLSTMCell\")"
   ]
  },
  {
   "cell_type": "markdown",
   "metadata": {},
   "source": [
    "## Predict the time series one step into the future"
   ]
  },
  {
   "cell_type": "code",
   "execution_count": 17,
   "metadata": {},
   "outputs": [
    {
     "name": "stdout",
     "output_type": "stream",
     "text": [
      "WARNING:tensorflow:From /home/themadscientist/anaconda3/lib/python3.7/site-packages/tensorflow/python/training/saver.py:1266: checkpoint_exists (from tensorflow.python.training.checkpoint_management) is deprecated and will be removed in a future version.\n",
      "Instructions for updating:\n",
      "Use standard file APIs to check for files with this prefix.\n",
      "INFO:tensorflow:Restoring parameters from ./TF_RNN_Adam_NoGPU_NoLSTMCell\n"
     ]
    }
   ],
   "source": [
    "with tf.Session() as sess:\n",
    "    \n",
    "    # restore the saved model\n",
    "    saver.restore(sess, \"./TF_RNN_Adam_NoGPU_NoLSTMCell\")\n",
    "    \n",
    "    X_new = np.sin(np.array(train_inst[:-1].reshape(-1, num_time_steps, num_inputs)))\n",
    "    y_pred = sess.run(outputs, feed_dict={X: X_new})"
   ]
  },
  {
   "cell_type": "code",
   "execution_count": 18,
   "metadata": {},
   "outputs": [
    {
     "data": {
      "text/plain": [
       "array([-0.9135351 , -0.9423569 , -0.9320662 , -0.91433424, -0.88748175,\n",
       "       -0.8684946 , -0.8430409 , -0.82447314, -0.79400504, -0.7681286 ,\n",
       "       -0.74396616, -0.71715283, -0.6904797 , -0.65984637, -0.6279511 ,\n",
       "       -0.59299153, -0.55740625, -0.5223315 , -0.48653656, -0.450668  ,\n",
       "       -0.41439083, -0.37642565, -0.33719233, -0.29852542, -0.2592506 ,\n",
       "       -0.21842909, -0.17503883, -0.12767443, -0.08641228, -0.04648819],\n",
       "      dtype=float32)"
      ]
     },
     "execution_count": 18,
     "metadata": {},
     "output_type": "execute_result"
    }
   ],
   "source": [
    "y_pred.flatten()"
   ]
  },
  {
   "cell_type": "markdown",
   "metadata": {},
   "source": [
    "## Plotting the result"
   ]
  },
  {
   "cell_type": "code",
   "execution_count": 19,
   "metadata": {},
   "outputs": [
    {
     "data": {
      "image/png": "[encoded data removed]",
      "text/plain": [
       "<Figure size 432x288 with 1 Axes>"
      ]
     },
     "metadata": {
      "needs_background": "light"
     },
     "output_type": "display_data"
    }
   ],
   "source": [
    "plt.title(\"Testing the model\")\n",
    "# Training instance\n",
    "plt.plot(train_inst[:-1], np.sin(train_inst[:-1]), \"bo\", \n",
    "         markersize=15, alpha=0.5, label='training instance')\n",
    "\n",
    "# Target to predict (True test values ie np.sin(train))\n",
    "# ie Time Series shifted one step into the future\n",
    "plt.plot(train_inst[1:], np.sin(train_inst[1:]), \"ko\", markersize=10, label='target (true value)')\n",
    "\n",
    "# Model prediction\n",
    "plt.plot(train_inst[1:],  y_pred[0,:,0], 'r.', markersize=10, label='predictions')\n",
    "plt.xlabel('time')\n",
    "plt.ylabel('value')\n",
    "plt.legend()\n",
    "plt.tight_layout();"
   ]
  },
  {
   "cell_type": "markdown",
   "metadata": {},
   "source": [
    "Initially the prediction is way off then it gets better"
   ]
  },
  {
   "cell_type": "markdown",
   "metadata": {},
   "source": [
    "Temporary session is saved into file"
   ]
  },
  {
   "cell_type": "code",
   "execution_count": null,
   "metadata": {},
   "outputs": [],
   "source": []
  },
  {
   "cell_type": "markdown",
   "metadata": {},
   "source": [
    "# Generating new Sequence from a seed of Zeroes"
   ]
  },
  {
   "cell_type": "code",
   "execution_count": 28,
   "metadata": {},
   "outputs": [
    {
     "name": "stdout",
     "output_type": "stream",
     "text": [
      "INFO:tensorflow:Restoring parameters from ./TF_RNN_Adam_NoGPU_NoLSTMCell\n"
     ]
    }
   ],
   "source": [
    "with tf.Session() as sess:\n",
    "    saver.restore(sess, \"./TF_RNN_Adam_NoGPU_NoLSTMCell\")\n",
    "    # Seed Zeros\n",
    "    zero_seq_seed = [0.0 for i in range(num_time_steps)]\n",
    "    \n",
    "    for iteration in range(len(ts_data.x_data) - num_time_steps):\n",
    "        x_batch = np.array(zero_seq_seed[-num_time_steps:]).reshape(1,num_time_steps,1)\n",
    "        \n",
    "        y_pred = sess.run(outputs, feed_dict={X: x_batch})\n",
    "        \n",
    "        zero_seq_seed.append(y_pred[0,-1,0])"
   ]
  },
  {
   "cell_type": "code",
   "execution_count": 33,
   "metadata": {},
   "outputs": [
    {
     "data": {
      "text/plain": [
       "0.22844777"
      ]
     },
     "execution_count": 33,
     "metadata": {},
     "output_type": "execute_result"
    }
   ],
   "source": [
    "y_pred[0,-1,0]"
   ]
  },
  {
   "cell_type": "code",
   "execution_count": 34,
   "metadata": {},
   "outputs": [
    {
     "data": {
      "image/png": "[encoded data removed]",
      "text/plain": [
       "<Figure size 432x288 with 1 Axes>"
      ]
     },
     "metadata": {
      "needs_background": "light"
     },
     "output_type": "display_data"
    }
   ],
   "source": [
    "plt.plot(ts_data.x_data, zero_seq_seed, 'b-')\n",
    "plt.plot(ts_data.x_data[:num_time_steps], zero_seq_seed[:num_time_steps], 'r-', linewidth=3)\n",
    "plt.xlabel('time')\n",
    "plt.ylabel('Y');"
   ]
  },
  {
   "cell_type": "markdown",
   "metadata": {},
   "source": [
    "What the heck is this???"
   ]
  },
  {
   "cell_type": "code",
   "execution_count": null,
   "metadata": {},
   "outputs": [],
   "source": []
  },
  {
   "cell_type": "markdown",
   "metadata": {},
   "source": [
    "# Generating a sequence from a seed of a Sine Wave"
   ]
  },
  {
   "cell_type": "code",
   "execution_count": 36,
   "metadata": {},
   "outputs": [],
   "source": [
    "with tf.Session() as sess:\n",
    "    saver.restore(sess, \"./TF_RNN_Adam_NoGPU_NoLSTMCell\")\n",
    "    \n",
    "    training_instance = list(ts_data.y_true[:30])\n",
    "    \n",
    "    for iteration in range(len(training_instance) - num_time_steps):\n",
    "        x_batch = np.array(training_instance[-num_time_steps:]).reshape(1,num_time_steps,1)\n",
    "        \n",
    "        y_pred = sess.run(outputs, feed_dict={X: x_batch})\n",
    "        \n",
    "        training_instance.append(y_pred[0,-1,0])\n",
    "    "
   ]
  },
  {
   "cell_type": "code",
   "execution_count": 36,
   "metadata": {},
   "outputs": [
    {
     "name": "stdout",
     "output_type": "stream",
     "text": [
      "INFO:tensorflow:Restoring parameters from ./TF_RNN_Adam_NoGPU_NoLSTMCell\n"
     ]
    },
    {
     "data": {
      "image/png": "[encoded data removed]",
      "text/plain": [
       "<Figure size 432x288 with 1 Axes>"
      ]
     },
     "metadata": {
      "needs_background": "light"
     },
     "output_type": "display_data"
    }
   ],
   "source": [
    "# Plotting\n",
    "plt.plot(ts_data.x_data, ts_data.y_true, 'b-')\n",
    "plt.plot(ts_data.x_data[:num_time_steps], training_instance[:num_time_steps], 'r-', linewidth=3)\n",
    "plt.xlabel('time')\n",
    "plt.ylabel('Y');"
   ]
  },
  {
   "cell_type": "markdown",
   "metadata": {},
   "source": [
    "."
   ]
  }
 ],
 "metadata": {
  "kernelspec": {
   "display_name": "Python 3",
   "language": "python",
   "name": "python3"
  },
  "language_info": {
   "codemirror_mode": {
    "name": "ipython",
    "version": 3
   },
   "file_extension": ".py",
   "mimetype": "text/x-python",
   "name": "python",
   "nbconvert_exporter": "python",
   "pygments_lexer": "ipython3",
   "version": "3.7.1"
  }
 },
 "nbformat": 4,
 "nbformat_minor": 2
}
