{
 "cells": [
  {
   "cell_type": "markdown",
   "metadata": {},
   "source": [
    "# Recurrent Neural Network with Tensorflow API"
   ]
  },
  {
   "cell_type": "markdown",
   "metadata": {},
   "source": [
    "## Creating and Plotting the data"
   ]
  },
  {
   "cell_type": "markdown",
   "metadata": {},
   "source": [
    "Give the model a series = [0, 0.84, 0.91, 0.14, -0.75, -0.96, -0.28] and see what the next is\n",
    "\n",
    "Actually it is Sin(x)"
   ]
  },
  {
   "cell_type": "code",
   "execution_count": 1,
   "metadata": {},
   "outputs": [],
   "source": [
    "import numpy as np\n",
    "import tensorflow as tf\n",
    "import matplotlib.pyplot as plt\n",
    "%matplotlib inline"
   ]
  },
  {
   "cell_type": "code",
   "execution_count": 24,
   "metadata": {},
   "outputs": [],
   "source": [
    "# Create a Class that will be able to create the data and also generate batches \n",
    "# to send back\n",
    "\n",
    "class TimeSeriesData():\n",
    "    \n",
    "    def __init__(self, num_points, xmin, xmax):\n",
    "        \n",
    "        self.xmin = xmin\n",
    "        self.xmax = xmax\n",
    "        self.num_points = num_points\n",
    "        \n",
    "        self.resolution = (self.xmax - self.xmin)/self.num_points\n",
    "        # Defining x for num_points points\n",
    "        self.x_data = np.linspace(start = self.xmin,\n",
    "                                  stop = self.xmax,\n",
    "                                  num = self.num_points)\n",
    "        # Getting the Sin(x) for all of the x_data points\n",
    "        self.y_true = np.sin(self.x_data)\n",
    "    \n",
    "    # Returns the sin of an input array\n",
    "    def ret_true(self, x_series):\n",
    "        return np.sin(x_series)\n",
    "    \n",
    "    \n",
    "    def next_batch(self, batch_size, steps, return_batch_time_series=False):\n",
    "        \n",
    "        # Grab a random starting point for each batch\n",
    "        rand_start =np.random.rand(batch_size, 1)\n",
    "        \n",
    "        # Convert the random start to be lying somewhere on the time series\n",
    "        time_series_start = rand_start * (self.xmax - self.xmin - (steps*self.resolution))\n",
    "        \n",
    "        # Create a batch time series on the x-axis\n",
    "        batch_time_series = time_series_start + np.arange(0.0, steps+1) * self.resolution\n",
    "        \n",
    "        # Create a corresponding y_data for each of the x_data points\n",
    "        y_batch = np.sin(batch_time_series)\n",
    "        \n",
    "        # Format the whole thing for RNN\n",
    "        if return_batch_time_series:\n",
    "            return y_batch[:, :-1].reshape(-1, steps, 1), y_batch[:, 1:].reshape(-1, steps, 1), batch_time_series\n",
    "        else:\n",
    "            # first batch represents the time series, second batch reprersents the \n",
    "            # series shifted over by one step into the future so we can train\n",
    "            return y_batch[:, :-1].reshape(-1, steps, 1), y_batch[:, 1:].reshape(-1, steps, 1)\n",
    "        "
   ]
  },
  {
   "cell_type": "code",
   "execution_count": 25,
   "metadata": {},
   "outputs": [],
   "source": [
    "# Creating Data\n",
    "ts_data = TimeSeriesData(num_points=250, xmin=0, xmax=10)"
   ]
  },
  {
   "cell_type": "code",
   "execution_count": 26,
   "metadata": {},
   "outputs": [
    {
     "data": {
      "image/png": "[encoded data removed]",
      "text/plain": [
       "<Figure size 432x288 with 1 Axes>"
      ]
     },
     "metadata": {
      "needs_background": "light"
     },
     "output_type": "display_data"
    }
   ],
   "source": [
    "# Plotting the data\n",
    "plt.plot(ts_data.x_data, ts_data.y_true);"
   ]
  },
  {
   "cell_type": "code",
   "execution_count": 32,
   "metadata": {},
   "outputs": [],
   "source": [
    "# Each of my random batches should have 30 steps in it\n",
    "num_time_steps = 30"
   ]
  },
  {
   "cell_type": "code",
   "execution_count": 33,
   "metadata": {},
   "outputs": [],
   "source": [
    "# I need 1 batch of 30 time steps with the batch time series\n",
    "y1, y2, ts = ts_data.next_batch(batch_size=1, steps=num_time_steps, return_batch_time_series=True)"
   ]
  },
  {
   "cell_type": "code",
   "execution_count": 34,
   "metadata": {},
   "outputs": [
    {
     "data": {
      "text/plain": [
       "array([[5.15971414, 5.19971414, 5.23971414, 5.27971414, 5.31971414,\n",
       "        5.35971414, 5.39971414, 5.43971414, 5.47971414, 5.51971414,\n",
       "        5.55971414, 5.59971414, 5.63971414, 5.67971414, 5.71971414,\n",
       "        5.75971414, 5.79971414, 5.83971414, 5.87971414, 5.91971414,\n",
       "        5.95971414, 5.99971414, 6.03971414, 6.07971414, 6.11971414,\n",
       "        6.15971414, 6.19971414, 6.23971414, 6.27971414, 6.31971414,\n",
       "        6.35971414]])"
      ]
     },
     "execution_count": 34,
     "metadata": {},
     "output_type": "execute_result"
    }
   ],
   "source": [
    "ts"
   ]
  },
  {
   "cell_type": "code",
   "execution_count": 35,
   "metadata": {},
   "outputs": [
    {
     "data": {
      "text/plain": [
       "(1, 31)"
      ]
     },
     "execution_count": 35,
     "metadata": {},
     "output_type": "execute_result"
    }
   ],
   "source": [
    "ts.shape"
   ]
  },
  {
   "cell_type": "code",
   "execution_count": 36,
   "metadata": {},
   "outputs": [
    {
     "data": {
      "text/plain": [
       "[<matplotlib.lines.Line2D at 0x7f97d1c63630>]"
      ]
     },
     "execution_count": 36,
     "metadata": {},
     "output_type": "execute_result"
    },
    {
     "data": {
      "image/png": "[encoded data removed]",
      "text/plain": [
       "<Figure size 432x288 with 1 Axes>"
      ]
     },
     "metadata": {
      "needs_background": "light"
     },
     "output_type": "display_data"
    }
   ],
   "source": [
    "# Plotting\n",
    "plt.plot(ts.flatten()[1:], y2.flatten(), '.')"
   ]
  },
  {
   "cell_type": "code",
   "execution_count": 37,
   "metadata": {},
   "outputs": [
    {
     "data": {
      "image/png": "[encoded data removed]",
      "text/plain": [
       "<Figure size 432x288 with 1 Axes>"
      ]
     },
     "metadata": {
      "needs_background": "light"
     },
     "output_type": "display_data"
    }
   ],
   "source": [
    "# Original Sine wave\n",
    "plt.plot(ts_data.x_data, ts_data.y_true, label='Sin(t)')\n",
    "plt.plot(ts.flatten()[1:], y2.flatten(), '.', label='Single Training Instance')\n",
    "plt.legend()\n",
    "plt.tight_layout() # automatic padding for legibility"
   ]
  },
  {
   "cell_type": "code",
   "execution_count": 39,
   "metadata": {},
   "outputs": [
    {
     "data": {
      "text/plain": [
       "array([5.        , 5.04133333, 5.08266667, 5.124     , 5.16533333,\n",
       "       5.20666667, 5.248     , 5.28933333, 5.33066667, 5.372     ,\n",
       "       5.41333333, 5.45466667, 5.496     , 5.53733333, 5.57866667,\n",
       "       5.62      , 5.66133333, 5.70266667, 5.744     , 5.78533333,\n",
       "       5.82666667, 5.868     , 5.90933333, 5.95066667, 5.992     ,\n",
       "       6.03333333, 6.07466667, 6.116     , 6.15733333, 6.19866667,\n",
       "       6.24      ])"
      ]
     },
     "execution_count": 39,
     "metadata": {},
     "output_type": "execute_result"
    }
   ],
   "source": [
    "# Training Data\n",
    "\n",
    "train_inst = np.linspace(5, 5 + ts_data.resolution*(num_time_steps+1), num_time_steps+1)\n",
    "train_inst"
   ]
  },
  {
   "cell_type": "code",
   "execution_count": 45,
   "metadata": {},
   "outputs": [
    {
     "data": {
      "image/png": "[encoded data removed]",
      "text/plain": [
       "<Figure size 432x288 with 1 Axes>"
      ]
     },
     "metadata": {
      "needs_background": "light"
     },
     "output_type": "display_data"
    }
   ],
   "source": [
    "plt.title(\"A Training instance\")\n",
    "plt.plot(train_inst[:-1], ts_data.ret_true(train_inst[:-1]), 'bo', markersize=15, alpha=0.5, \n",
    "        label='INSTANCE');\n",
    "# We need to predict exactly one time step forward\n",
    "plt.plot(train_inst[1:],ts_data.ret_true(train_inst[1:]), 'k.', markersize=7, label='TARGET')\n",
    "plt.legend();"
   ]
  },
  {
   "cell_type": "markdown",
   "metadata": {},
   "source": [
    "Now this graph is interpreted as - Given the blue points, can you generate the black points?"
   ]
  },
  {
   "cell_type": "markdown",
   "metadata": {},
   "source": [
    "## Creating the Model"
   ]
  },
  {
   "cell_type": "code",
   "execution_count": 46,
   "metadata": {},
   "outputs": [],
   "source": [
    "tf.reset_default_graph() # Obligatory"
   ]
  },
  {
   "cell_type": "code",
   "execution_count": 47,
   "metadata": {},
   "outputs": [],
   "source": [
    "num_inputs = 1 # We only have one feature ie the value of x\n",
    "num_neurons = 100\n",
    "num_outputs = 1\n",
    "learning_rate = 0.001\n",
    "num_training_iterations = 2000\n",
    "batch_size = 1\n",
    "\n",
    "# PLACEHOLDERS\n",
    "X = tf.placeholder(tf.float32, [None, num_time_steps, num_inputs])\n",
    "y = tf.placeholder(tf.float32, [None, num_time_steps, num_outputs])\n",
    "\n",
    "# RNN CELL LAYER\n",
    "cell = tf.contrib.rnn.BasicRNNCell(num_units=num_neurons,\n",
    "                                  activation=tf.nn.relu)\n",
    "# We just need 1 time series output, we are using 100 neurons, but we dont need 100 outputs\n",
    "# So we use an output projection wrapper\n",
    "cell = tf.contrib.rnn.OutputProjectionWrapper(cell, output_size=num_outputs)\n",
    "# Operator adding an output projection to the given cell.\n",
    "# Note: in many cases it may be more efficient to not use this wrapper,\n",
    "# but instead concatenate the whole sequence of your outputs in time,\n",
    "# do the projection on this batch-concatenated sequence, then split it\n",
    "# if needed or directly feed into a softmax."
   ]
  }
 ],
 "metadata": {
  "kernelspec": {
   "display_name": "Python 3",
   "language": "python",
   "name": "python3"
  },
  "language_info": {
   "codemirror_mode": {
    "name": "ipython",
    "version": 3
   },
   "file_extension": ".py",
   "mimetype": "text/x-python",
   "name": "python",
   "nbconvert_exporter": "python",
   "pygments_lexer": "ipython3",
   "version": "3.7.1"
  }
 },
 "nbformat": 4,
 "nbformat_minor": 2
}
