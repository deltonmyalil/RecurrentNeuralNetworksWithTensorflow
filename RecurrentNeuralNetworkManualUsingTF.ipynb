{
 "cells": [
  {
   "cell_type": "markdown",
   "metadata": {},
   "source": [
    "# Recurrent Neural Network Manual Creation Using Tensorflow"
   ]
  },
  {
   "cell_type": "markdown",
   "metadata": {},
   "source": [
    "A dummy recNeuralNet\n",
    "\n",
    "Will not be able to scale up as the timeStep here if fixed to 2"
   ]
  },
  {
   "cell_type": "code",
   "execution_count": 1,
   "metadata": {},
   "outputs": [],
   "source": [
    "import numpy as np\n",
    "import tensorflow as tf\n",
    "import matplotlib.pyplot as plt"
   ]
  },
  {
   "cell_type": "code",
   "execution_count": 2,
   "metadata": {},
   "outputs": [],
   "source": [
    "# Defining Constants\n",
    "num_inputs = 2\n",
    "num_neurons = 3"
   ]
  },
  {
   "cell_type": "code",
   "execution_count": 4,
   "metadata": {},
   "outputs": [],
   "source": [
    "# Defining Placeholders\n",
    "x0 = tf.placeholder(tf.float32, [None, num_inputs]) # x at time 0\n",
    "x1 = tf.placeholder(tf.float32, [None, num_inputs]) # x at time 1"
   ]
  },
  {
   "cell_type": "code",
   "execution_count": 6,
   "metadata": {},
   "outputs": [
    {
     "name": "stdout",
     "output_type": "stream",
     "text": [
      "WARNING:tensorflow:From /home/themadscientist/anaconda3/lib/python3.7/site-packages/tensorflow/python/framework/op_def_library.py:263: colocate_with (from tensorflow.python.framework.ops) is deprecated and will be removed in a future version.\n",
      "Instructions for updating:\n",
      "Colocations handled automatically by placer.\n"
     ]
    }
   ],
   "source": [
    "# Defining Variables\n",
    "Wx = tf.Variable(tf.random_normal(shape=[num_inputs, num_neurons]))\n",
    "Wy = tf.Variable(tf.random_normal(shape=[num_neurons, num_neurons]))\n",
    "b = tf.Variable(tf.zeros(shape=[1, num_neurons]))"
   ]
  },
  {
   "cell_type": "code",
   "execution_count": 7,
   "metadata": {},
   "outputs": [],
   "source": [
    "# Defining Graph\n",
    "y0 = tf.tanh(tf.matmul(x0, Wx) + b)\n",
    "y1 = tf.tanh(tf.matmul(y0, Wy) + tf.matmul(x1, Wx) + b) # Recurrent Connection"
   ]
  },
  {
   "cell_type": "code",
   "execution_count": 8,
   "metadata": {},
   "outputs": [],
   "source": [
    "# Creating the Variables initializer object\n",
    "init = tf.global_variables_initializer()"
   ]
  },
  {
   "cell_type": "code",
   "execution_count": 9,
   "metadata": {},
   "outputs": [],
   "source": [
    "# Creating the Data\n",
    "# TimeStep0\n",
    "x0_batch = np.array([[0,1], [2,3], [4,5]])\n",
    "# TimeStep1: Everything went up by 100\n",
    "x1_batch = np.array([[100,101], [102,103], [104,105]])"
   ]
  },
  {
   "cell_type": "code",
   "execution_count": 10,
   "metadata": {},
   "outputs": [],
   "source": [
    "# Running the Tensorflow Session:\n",
    "\n",
    "with tf.Session() as sess:\n",
    "    sess.run(init) # Initializing the variables\n",
    "    y0_output, y1_output = sess.run([y0, y1], \n",
    "                                   feed_dict = {\n",
    "                                       x0 : x0_batch,\n",
    "                                       x1 : x1_batch\n",
    "                                   })"
   ]
  },
  {
   "cell_type": "code",
   "execution_count": 11,
   "metadata": {},
   "outputs": [
    {
     "data": {
      "text/plain": [
       "array([[-0.2869911 ,  0.93702286, -0.77702934],\n",
       "       [-0.9807094 ,  0.99998766, -0.9669498 ],\n",
       "       [-0.9996576 ,  1.        , -0.9955098 ]], dtype=float32)"
      ]
     },
     "execution_count": 11,
     "metadata": {},
     "output_type": "execute_result"
    }
   ],
   "source": [
    "y0_output"
   ]
  },
  {
   "cell_type": "code",
   "execution_count": 12,
   "metadata": {},
   "outputs": [
    {
     "data": {
      "text/plain": [
       "array([[-1.,  1., -1.],\n",
       "       [-1.,  1., -1.],\n",
       "       [-1.,  1., -1.]], dtype=float32)"
      ]
     },
     "execution_count": 12,
     "metadata": {},
     "output_type": "execute_result"
    }
   ],
   "source": [
    "y1_output"
   ]
  }
 ],
 "metadata": {
  "kernelspec": {
   "display_name": "Python 3",
   "language": "python",
   "name": "python3"
  },
  "language_info": {
   "codemirror_mode": {
    "name": "ipython",
    "version": 3
   },
   "file_extension": ".py",
   "mimetype": "text/x-python",
   "name": "python",
   "nbconvert_exporter": "python",
   "pygments_lexer": "ipython3",
   "version": "3.7.1"
  }
 },
 "nbformat": 4,
 "nbformat_minor": 2
}
